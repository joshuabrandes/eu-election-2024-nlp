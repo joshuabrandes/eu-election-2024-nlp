{
 "cells": [
  {
   "cell_type": "markdown",
   "metadata": {},
   "source": [
    "# Team 17 - Wahl-O-Mat als Chatbot\n",
    "\n",
    "Modul: Natural Language Processing <br>\n",
    "Dozent: Prof. Dr. Albrecht <br>\n",
    "Gruppenmitglieder: Joshua Brandes & Jonas Raum"
   ]
  },
  {
   "cell_type": "markdown",
   "metadata": {},
   "source": [
    "## Abstract\n",
    "\n",
    "Im Rahmen der Europawahl wollten wir untersuchen, ob man allen Wahlberechtigten eine interaktive Übersicht über die Wahlprogramme geben könnte. Zuerst wurden diese statistisch analysiert, mit Hilfe einer Sentimentanalyse wurde die Stimmung der Programme analysiert und ein von uns ersteller ChatBot beantwortet dem Endanwender fragen zu den verschiedenen Wahlprogrammen"
   ]
  },
  {
   "cell_type": "markdown",
   "metadata": {},
   "source": [
    "## Statistische Analyse\n",
    "\n",
    "Im Rahmen der statistischen Analyse wurden Länge der Programme, Dichte der Adjektive & populistischer Begriffe, Wortfrequenz und Themenvielfalt untersucht.\n",
    "\n",
    "[Statistische Analyse](statistical_analysis.ipynb)"
   ]
  },
  {
   "cell_type": "markdown",
   "metadata": {},
   "source": [
    "## Sentimentanalyse\n",
    "\n",
    "[Sentiment Analyse](sentiment_analysis.ipynb)"
   ]
  },
  {
   "cell_type": "markdown",
   "metadata": {},
   "source": [
    "## Chatbot\n",
    "\n",
    "[Chatbot](chatbot.ipynb)"
   ]
  },
  {
   "metadata": {},
   "cell_type": "markdown",
   "source": [
    "## Quellen und Literatur\n",
    "\n",
    "Die folgenden Projekte und Guides waren sehr hilfreich bei der Implementierung der Notebooks. \n",
    "\n",
    "### Allgemein\n",
    "- [Welcome to Python.org](https://www.python.org/)\n",
    "- [pathlib — Object-oriented filesystem paths — Python 3.12.4 documentation](https://docs.python.org/3/library/pathlib.html)\n",
    "- [matplotlib/matplotlib: matplotlib: plotting with Python](https://github.com/matplotlib/matplotlib)\n",
    "\n",
    "### Statistische Analysen\n",
    "- [jsvine/pdfplumber: Plumb a PDF for detailed information about each char, rectangle, line, et cetera — and easily extract text and tables.](https://github.com/jsvine/pdfplumber)\n",
    "- [nltk/nltk: NLTK Source](https://github.com/nltk/nltk)\n",
    "- [explosion/spaCy: Industrial-strength Natural Language Processing (NLP) in Python](https://github.com/explosion/spaCy)\n",
    "- [sloria/TextBlob: Simple, Pythonic, text processing--Sentiment analysis, part-of-speech tagging, noun phrase extraction, translation, and more.](https://github.com/sloria/TextBlob)\n",
    "- [Kozea/Pyphen: Hy-phen-ation made easy](https://github.com/Kozea/Pyphen)\n",
    "\n",
    "### Sentimentanalyse\n",
    "- [HuggingFace Transformers](https://huggingface.co/docs/transformers/en/index)\n",
    "- [MarieAngeA13/Sentiment-Analysis-BERT · Hugging Face](https://huggingface.co/MarieAngeA13/Sentiment-Analysis-BERT)\n",
    "- [pytorch/pytorch: Tensors and Dynamic neural networks in Python with strong GPU acceleration](https://github.com/pytorch/pytorch)\n",
    "- [numpy/numpy: The fundamental package for scientific computing with Python.](https://github.com/numpy/numpy)\n",
    "\n",
    "### Chatbot\n",
    "- [HuggingFace Transformers](https://huggingface.co/docs/transformers/en/index)\n",
    "- [deepset-ai/haystack: :mag: LLM orchestration framework to build customizable, production-ready LLM applications. Connect components (models, vector DBs, file converters) to pipelines or agents that can interact with your data. With advanced retrieval methods, it's best suited for building RAG, question answering, semantic search or conversational agent chatbots.](https://github.com/deepset-ai/haystack)\n",
    "    - [Preprocessing Different File Types | Haystack](https://haystack.deepset.ai/tutorials/30_file_type_preprocessing_index_pipeline)\n",
    "    - [Haystack Documentation- LlamaCppGenerator](https://docs.haystack.deepset.ai/v2.0/docs/llamacppgenerator)\n",
    "- [chroma-core/chroma: the AI-native open-source embedding database](https://github.com/chroma-core/chroma)\n",
    "    - [haystack-core-integrations/integrations/chroma at main · deepset-ai/haystack-core-integrations](https://github.com/deepset-ai/haystack-core-integrations/tree/main/integrations/chroma)\n",
    "- [T-Systems-onsite/cross-en-de-roberta-sentence-transformer · Hugging Face](https://huggingface.co/T-Systems-onsite/cross-en-de-roberta-sentence-transformer)\n",
    "- [TheBloke/SauerkrautLM-Mixtral-8x7B-GGUF · Hugging Face](https://huggingface.co/TheBloke/SauerkrautLM-Mixtral-8x7B-GGUF#prompt-template-chatml)\n",
    "- [TheBloke/Mistral-7B-v0.1-GGUF · Hugging Face](https://huggingface.co/TheBloke/Mistral-7B-v0.1-GGUF)"
   ]
  }
 ],
 "metadata": {
  "language_info": {
   "name": "python"
  }
 },
 "nbformat": 4,
 "nbformat_minor": 2
}
